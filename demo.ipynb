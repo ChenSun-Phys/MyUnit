{
 "cells": [
  {
   "cell_type": "code",
   "execution_count": 3,
   "id": "8c57a2c3",
   "metadata": {},
   "outputs": [],
   "source": [
    "from MyUnit import NaturalUnit, SIUnit"
   ]
  },
  {
   "cell_type": "markdown",
   "id": "78925163",
   "metadata": {},
   "source": [
    "## Natural Units"
   ]
  },
  {
   "cell_type": "code",
   "execution_count": 4,
   "id": "50167f85",
   "metadata": {},
   "outputs": [
    {
     "data": {
      "text/latex": [
       "$\\displaystyle \\frac{4.79444331506342 \\cdot 10^{22}}{eV}$"
      ],
      "text/plain": [
       "4.79444331506342e+22/eV"
      ]
     },
     "execution_count": 4,
     "metadata": {},
     "output_type": "execute_result"
    }
   ],
   "source": [
    "# example for testing\n",
    "test = NaturalUnit('c*year')\n",
    "test()"
   ]
  },
  {
   "cell_type": "code",
   "execution_count": 5,
   "id": "027c59ab",
   "metadata": {},
   "outputs": [
    {
     "data": {
      "text/plain": [
       "'4.79444331506342e+22*c**2/eV'"
      ]
     },
     "execution_count": 5,
     "metadata": {},
     "output_type": "execute_result"
    }
   ],
   "source": [
    "str(test.mass())"
   ]
  },
  {
   "cell_type": "code",
   "execution_count": 8,
   "id": "6956e64d",
   "metadata": {},
   "outputs": [
    {
     "data": {
      "text/latex": [
       "$\\displaystyle 4.79444331506342 \\cdot 10^{22}$"
      ],
      "text/plain": [
       "4.79444331506342e+22"
      ]
     },
     "execution_count": 8,
     "metadata": {},
     "output_type": "execute_result"
    }
   ],
   "source": [
    "NaturalUnit('year*eV')()"
   ]
  },
  {
   "cell_type": "code",
   "execution_count": 10,
   "id": "a759e494",
   "metadata": {},
   "outputs": [
    {
     "data": {
      "text/latex": [
       "$\\displaystyle 4.79444331506342 \\cdot 10^{22}$"
      ],
      "text/plain": [
       "4.79444331506342e+22"
      ]
     },
     "execution_count": 10,
     "metadata": {},
     "output_type": "execute_result"
    }
   ],
   "source": [
    "new_quantity = NaturalUnit('year')*NaturalUnit('eV')\n",
    "new_quantity()"
   ]
  },
  {
   "cell_type": "code",
   "execution_count": 11,
   "id": "945fae10",
   "metadata": {},
   "outputs": [
    {
     "data": {
      "text/plain": [
       "4.79444331506342e+22"
      ]
     },
     "execution_count": 11,
     "metadata": {},
     "output_type": "execute_result"
    }
   ],
   "source": [
    "new_quantity = NaturalUnit('year')*NaturalUnit('eV')\n",
    "new_quantity.val"
   ]
  },
  {
   "cell_type": "code",
   "execution_count": 14,
   "id": "eac974e2",
   "metadata": {},
   "outputs": [
    {
     "data": {
      "text/plain": [
       "{'symb': 4.79444331506342e+22,\n",
       " 'str': '4.79444331506342e+22',\n",
       " 'val': 4.79444331506342e+22}"
      ]
     },
     "execution_count": 14,
     "metadata": {},
     "output_type": "execute_result"
    }
   ],
   "source": [
    "new_quantity = NaturalUnit('year')*NaturalUnit('eV')\n",
    "new_quantity.__dict__"
   ]
  },
  {
   "cell_type": "code",
   "execution_count": 16,
   "id": "9fd2f715",
   "metadata": {},
   "outputs": [
    {
     "data": {
      "text/latex": [
       "$\\displaystyle \\frac{1.11293326256637 \\cdot 10^{45}}{Mpl}$"
      ],
      "text/plain": [
       "1.11293326256637e+45/Mpl"
      ]
     },
     "execution_count": 16,
     "metadata": {},
     "output_type": "execute_result"
    }
   ],
   "source": [
    "NaturalUnit('60*s').Mpl()"
   ]
  },
  {
   "cell_type": "markdown",
   "id": "8923c07d",
   "metadata": {},
   "source": [
    "## SI Units"
   ]
  },
  {
   "cell_type": "code",
   "execution_count": 6,
   "id": "025017e3",
   "metadata": {},
   "outputs": [
    {
     "name": "stdout",
     "output_type": "stream",
     "text": [
      "4.79444331506341e+22/eV\n",
      "9.46073047258078e+15*m\n",
      "2.68948557400311e+58/kg\n",
      "4.13153032678779e+18/K\n",
      "8.9711582204083e+49*s/(kg*m)\n",
      "31557599.9999999*s\n",
      "4.79444331506341e+22*eV**(-0.5)*(1/eV)**0.5\n",
      "3.07302356212126e+24*kg**(-0.5)*m**(-1.0)*s**1.5\n",
      "4.79444331506341e+31/GeV\n",
      "3.06599166237184e-7*Mpc**1.0\n",
      "5.85358378779407e+50/Mpl\n"
     ]
    },
    {
     "data": {
      "text/latex": [
       "$\\displaystyle 1.0 Mpl$"
      ],
      "text/plain": [
       "1.0*Mpl"
      ]
     },
     "execution_count": 6,
     "metadata": {},
     "output_type": "execute_result"
    }
   ],
   "source": [
    "test2 = SIUnit(test)\n",
    "test3 = NaturalUnit(test2)\n",
    "print(test3())\n",
    "print(SIUnit(test3.length())())\n",
    "print(SIUnit(test3.mass())())\n",
    "print(SIUnit(test3.T())())\n",
    "print(SIUnit(test3.mom())())\n",
    "print(SIUnit(test3.time())())\n",
    "print(NaturalUnit(SIUnit(test3.power())()))\n",
    "print(SIUnit(test3.power()))\n",
    "print(test3.GeV())\n",
    "print(test3.Mpc())\n",
    "print(test3.Mpl())\n",
    "NaturalUnit('Mpl').Mpl()\n"
   ]
  },
  {
   "cell_type": "code",
   "execution_count": null,
   "id": "1c77ea8b",
   "metadata": {},
   "outputs": [],
   "source": []
  }
 ],
 "metadata": {
  "kernelspec": {
   "display_name": "Python 3",
   "language": "python",
   "name": "python3"
  },
  "language_info": {
   "codemirror_mode": {
    "name": "ipython",
    "version": 3
   },
   "file_extension": ".py",
   "mimetype": "text/x-python",
   "name": "python",
   "nbconvert_exporter": "python",
   "pygments_lexer": "ipython3",
   "version": "3.8.11"
  }
 },
 "nbformat": 4,
 "nbformat_minor": 5
}
